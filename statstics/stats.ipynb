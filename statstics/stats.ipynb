{
 "cells": [
  {
   "attachments": {},
   "cell_type": "markdown",
   "metadata": {},
   "source": [
    "Q-1. A university wants to understand the relationship between the SAT scores of its applicants and their college GPA. They collect data on 500 students, including their SAT scores (out of 1600) and their college GPA (on a 4.0 scale). They find that the correlation coefficient between SAT scores and college GPA is 0.7. What does this correlation coefficient indicate about the relationship between SAT scores and college GPA?"
   ]
  },
  {
   "attachments": {},
   "cell_type": "markdown",
   "metadata": {},
   "source": [
    "Ans:-Ans: A correlation coefficient of 0.7 indicates a strong positive relationship between SAT scores and college GPA. The correlation coefficient ranges from -1 to 1, where 1 represents a perfect positive relationship, 0 represents no relationship, and -1 represents a perfect negative relationship. In this case, the correlation coefficient of 0.7 suggests a strong positive association, indicating that higher SAT scores are generally associated with higher college GPAs.\n",
    "\n",
    "It's important to note that correlation does not imply causation. While the correlation coefficient indicates a relationship between SAT scores and college GPA, it does not establish a cause-and-effect relationship. Other factors, such as study habits, motivation, and personal circumstances, can also influence college GPA and should be considered when interpreting the results."
   ]
  },
  {
   "attachments": {},
   "cell_type": "markdown",
   "metadata": {},
   "source": [
    "# Q-2. Consider a dataset containing the heights (in centimeters) of 1000 individuals. The mean height is 170 cm with a standard deviation of 10 cm. The dataset is approximately normally distributed, and its skewness is approximately zero. Based on this information, answer the following questions:\n",
    "a. What percentage of individuals in the dataset have heights between 160 cmand 180 cm?\n",
    "\n",
    "b. If we randomly select 100 individuals from the dataset, what is the probability that their average height is greater than 175 cm?\n",
    "\n",
    "c. Assuming the dataset follows a normal distribution, what is the z-score corresponding to a height of 185 cm?\n",
    "\n",
    "d. We know that 5% of the dataset has heights below a certain value. What is the approximate height corresponding to this threshold?\n",
    "\n",
    "e. Calculate the coefficient of variation (CV) for the dataset.\n",
    "\n",
    "f. Calculate the skewness of the dataset and interpret the result."
   ]
  },
  {
   "attachments": {},
   "cell_type": "markdown",
   "metadata": {},
   "source": [
    "# a. What percentage of individuals in the dataset have heights between 160 cmand 180 cm?\n",
    "\n",
    "ans:-Mean(heigh)  μ  =170 cm Staandard deviation  σ =10\n",
    "we can calculate the z-scores for both heights using the formula: z = (x - μ) / σ, where x is the height, μ is the mean, and σ is the standard deviation.\n",
    "\n",
    "for 160 cm z=(160-170) / 10= -1\n",
    "for 180 cm Z=(180-170) /10 = 1\n",
    "\n",
    "Using a standard normal distribution table or a statistical software, we can find the area under the curve between z = -1 and z = 1, which represents the percentage of individuals with heights between 160 cm and 180 cm.\n",
    "\n",
    "The area to the left of z = -1 is 0.1587, and the area to the left of z = 1 is 0.8413.\n",
    "\n",
    "The percentage of individuals with heights between 160 cm and 180 cm is approximately:\n",
    "Percentage = (0.8413 - 0.1587) * 100% = 68.26%\n",
    "\n"
   ]
  },
  {
   "cell_type": "code",
   "execution_count": 1,
   "metadata": {},
   "outputs": [
    {
     "name": "stdout",
     "output_type": "stream",
     "text": [
      "Percentage of individuals with heights between 160 cm and 180 cm: 68.27%\n"
     ]
    }
   ],
   "source": [
    "import scipy.stats as stats\n",
    "\n",
    "# Given values\n",
    "mean_height = 170\n",
    "std_dev = 10\n",
    "\n",
    "# a. Percentage of individuals with heights between 160 cm and 180 cm\n",
    "z1 = (160 - mean_height) / std_dev\n",
    "z2 = (180 - mean_height) / std_dev\n",
    "percentage_between = stats.norm.cdf(z2) - stats.norm.cdf(z1)\n",
    "percentage_between *= 100\n",
    "\n",
    "print(f\"Percentage of individuals with heights between 160 cm and 180 cm: {percentage_between:.2f}%\")"
   ]
  },
  {
   "cell_type": "code",
   "execution_count": null,
   "metadata": {},
   "outputs": [],
   "source": []
  }
 ],
 "metadata": {
  "kernelspec": {
   "display_name": "Python 3",
   "language": "python",
   "name": "python3"
  },
  "language_info": {
   "codemirror_mode": {
    "name": "ipython",
    "version": 3
   },
   "file_extension": ".py",
   "mimetype": "text/x-python",
   "name": "python",
   "nbconvert_exporter": "python",
   "pygments_lexer": "ipython3",
   "version": "3.8.16"
  },
  "orig_nbformat": 4
 },
 "nbformat": 4,
 "nbformat_minor": 2
}

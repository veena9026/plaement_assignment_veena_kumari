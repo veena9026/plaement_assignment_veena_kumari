{
 "cells": [
  {
   "cell_type": "markdown",
   "id": "5c286ef5-b8c9-47f5-a775-42107fc411fd",
   "metadata": {},
   "source": [
    "# Question 1: -\n",
    "Write a program that takes a string as input, and counts the frequency of each word in the string, there might\n",
    "be repeated characters in the string. Your task is to find the highest frequency and returns the length of the\n",
    "highest-frequency word.\n",
    "\n",
    "Note - You have to write at least 2 additional test cases in which your program will run successfully and provide\n",
    "an explanation for the same.\n",
    "Example input - string = “write write write all the number from from from 1 to 100”\n",
    "Example output - 5\n",
    "Explanation - From the given string we can note that the most frequent words are “write” and “from” and\n",
    "the maximum value of both the values is “write” and its corresponding length is 5"
   ]
  },
  {
   "cell_type": "code",
   "execution_count": 1,
   "id": "3ad2330f-3bd0-400d-aebc-5212d08e42e9",
   "metadata": {},
   "outputs": [
    {
     "name": "stdout",
     "output_type": "stream",
     "text": [
      "Repeated words: ['leads', 'to', 'anger', 'hatred', 'conflict']\n",
      "maximum value of repeated words : to\n",
      "length of max word : 2\n"
     ]
    }
   ],
   "source": [
    "string=\"Fear leads to anger anger leads to hatred hatred leads to conflict conflict leads to suffering\" \n",
    "repeat=[]\n",
    "word=string.split(\" \")\n",
    "\n",
    "for i in range(0,len(word)):\n",
    "    count=1\n",
    "    \n",
    "    for j in range(i+1,len(word)):\n",
    "        if (word[i]==word[j]):\n",
    "            count=count+1\n",
    "            word[j]=\"0\"\n",
    "    if (count>1 and word[i]!=\"0\"):\n",
    "        \n",
    "        dupli=word[i]\n",
    "        repeat.append(dupli)\n",
    "\n",
    "print(\"Repeated words:\",repeat)\n",
    "print(\"maximum value of repeated words :\",max(repeat))\n",
    "print(\"length of max word :\",len(max(repeat)))\n",
    "        \n",
    "\n",
    " "
   ]
  },
  {
   "cell_type": "markdown",
   "id": "03d64ed9-25fd-4e50-bd81-7237813c971c",
   "metadata": {},
   "source": [
    "# Question 2: -\n",
    "Consider a string to be valid if all characters of the string appear the same number of times. It is also valid if\n",
    "he can remove just one character at the index in the string, and the remaining characters will occur the same\n",
    "number of times. Given a string, determine if it is valid. If so, return YES , otherwise return NO .\n",
    "\n",
    "Note - You have to write at least 2 additional test cases in which your program will run successfully and provide\n",
    "an explanation for the same.\n",
    "\n",
    "Example input 1 - s = “abc”. This is a valid string because frequencies are { “a”: 1, “b”: 1, “c”: 1 }\n",
    "\n",
    "Example output 1- YES\n",
    "\n",
    "Example input 2 - s “abcc”. This string is not valid as we can remove only 1 occurrence of “c”. That leaves\n",
    "character frequencies of { “a”: 1, “b”: 1 , “c”: 2 }\n",
    "\n",
    "Example output 2 - NO"
   ]
  },
  {
   "cell_type": "code",
   "execution_count": 7,
   "id": "afe74bab",
   "metadata": {},
   "outputs": [
    {
     "name": "stdout",
     "output_type": "stream",
     "text": [
      "Yes\n",
      "No\n"
     ]
    }
   ],
   "source": [
    "\n",
    "# Python program\n",
    "from collections import Counter\n",
    " \n",
    "def checkForVariation(strr):\n",
    "   \n",
    "    freq = Counter(strr)\n",
    "\n",
    "    \n",
    "    # Converting these values to list\n",
    "    valuelist = list(freq.values())\n",
    "\n",
    "    # Counting frequencies again\n",
    "    ValueCounter = Counter(valuelist)\n",
    "    if(len(ValueCounter) == 1):\n",
    "        return' Yes'\n",
    "    elif(len(ValueCounter) == 2 and\n",
    "         min(ValueCounter.values()) == 1):\n",
    "        return 'Yes'\n",
    "       \n",
    "    # If no conditions satisfied return false\n",
    "    return 'No'\n",
    " \n",
    " \n",
    "# Driver code\n",
    "string = \"abcbc\"\n",
    "string1=\"aabbcde\"\n",
    "# passing string to checkForVariation Function\n",
    "print(checkForVariation(string))\n",
    "print(checkForVariation(string1))"
   ]
  },
  {
   "attachments": {},
   "cell_type": "markdown",
   "id": "9e0172b7",
   "metadata": {},
   "source": [
    "## Question 10 -\n",
    "Write a program to count the number of verbs, nouns, pronouns, and adjectives in a given particular phrase or\n",
    "paragraph, and return their respective count as a dictionary.\n",
    "Note -\n",
    "1. Write code comments wherever required for code\n",
    "2. You have to write at least 2 additional test cases in which your program will run successfully and provide\n",
    "an explanation for the same.\n",
    "\n"
   ]
  },
  {
   "cell_type": "code",
   "execution_count": null,
   "id": "5b2c02f7",
   "metadata": {},
   "outputs": [],
   "source": []
  }
 ],
 "metadata": {
  "kernelspec": {
   "display_name": "Python 3 (ipykernel)",
   "language": "python",
   "name": "python3"
  },
  "language_info": {
   "codemirror_mode": {
    "name": "ipython",
    "version": 3
   },
   "file_extension": ".py",
   "mimetype": "text/x-python",
   "name": "python",
   "nbconvert_exporter": "python",
   "pygments_lexer": "ipython3",
   "version": "3.8.16"
  }
 },
 "nbformat": 4,
 "nbformat_minor": 5
}
